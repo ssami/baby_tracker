{
 "cells": [
  {
   "cell_type": "code",
   "execution_count": 1,
   "id": "6422dff9",
   "metadata": {},
   "outputs": [],
   "source": [
    "# to generate report, run \n",
    "# pdf2txt.py report_feb_march.pdf > 0220_0322.txt"
   ]
  },
  {
   "cell_type": "code",
   "execution_count": 2,
   "id": "ee8114b3",
   "metadata": {},
   "outputs": [
    {
     "name": "stdout",
     "output_type": "stream",
     "text": [
      "babytrack\n"
     ]
    }
   ],
   "source": [
    "import os\n",
    "print(os.environ['CONDA_DEFAULT_ENV'])"
   ]
  },
  {
   "cell_type": "code",
   "execution_count": 14,
   "id": "13dfc480",
   "metadata": {},
   "outputs": [],
   "source": [
    "import re\n",
    "import datetime\n",
    "from time import strptime\n",
    "from typing import List\n",
    "import math\n",
    "import pandas as pd\n",
    "import numpy as np\n",
    "import matplotlib"
   ]
  },
  {
   "cell_type": "code",
   "execution_count": 4,
   "id": "1c517280",
   "metadata": {},
   "outputs": [],
   "source": [
    "feeding_nursing_pattern = re.compile('Feeding Nursing (.*) min .*')\n",
    "feeding_expressed_pattern = re.compile('Feeding Expressed (.*) ml')\n",
    "feeding_formula_pattern = re.compile('Feeding Formula (.*) ml')\n",
    "diaper_wet = re.compile('Diaper change Wet')\n",
    "diaper_dirty = re.compile('Diaper change ((Dirty|Mixed))')\n",
    "date_pattern = re.compile(r'(\\w+), (\\w+) (\\d{1,2}), (\\d{4})')\n",
    "hour_pattern = re.compile(r'(\\d{1,2}):(\\d{1,2}) (AM|PM)')\n",
    "sleep_pattern = re.compile('Sleep Slept ((\\d+) hrs )?(\\d+) min')"
   ]
  },
  {
   "cell_type": "code",
   "execution_count": 5,
   "id": "e3ce4df1",
   "metadata": {},
   "outputs": [],
   "source": [
    "def get_date(matched): \n",
    "    year = int(date_match.group(4))\n",
    "    month_name = date_match.group(2)\n",
    "    month = strptime(month_name[:3],'%b').tm_mon \n",
    "    day = int(date_match.group(3))\n",
    "    return (year, month, day)"
   ]
  },
  {
   "cell_type": "code",
   "execution_count": 6,
   "id": "d6a9717a",
   "metadata": {},
   "outputs": [],
   "source": [
    "def get_datetime(current_date, hour_match): \n",
    "    hour = int(hour_match.group(1))\n",
    "    minute = int(hour_match.group(2))\n",
    "    ampm = hour_match.group(3)\n",
    "    if ampm == 'PM':\n",
    "        if hour < 12: # noon should be left alone \n",
    "            hour += 12\n",
    "    else:\n",
    "        if hour == 12: # midnight starts at 0 \n",
    "            hour = 0\n",
    "    current_time = datetime.datetime.combine(current_date, datetime.time(hour, minute)) \n",
    "    return current_time"
   ]
  },
  {
   "cell_type": "code",
   "execution_count": 7,
   "id": "b3035acf",
   "metadata": {},
   "outputs": [],
   "source": [
    "def assign_bucket(time, start_time) -> int: \n",
    "    # returns a bucket index based on which bucket the time falls under\n",
    "    interval_minutes = 15\n",
    "    delta_minutes = (time - start_time)/datetime.timedelta(minutes=1)\n",
    "    leftover = delta_minutes/interval_minutes\n",
    "    return math.ceil(leftover)"
   ]
  },
  {
   "cell_type": "code",
   "execution_count": 19,
   "id": "1bc89418",
   "metadata": {},
   "outputs": [
    {
     "name": "stdout",
     "output_type": "stream",
     "text": [
      "[[0, 1], [0, 1], [1, 2], [0, 2], [0, 6], [1, 3], [0, 1], [2, 4], [1, 4]]\n"
     ]
    }
   ],
   "source": [
    "six_pm = datetime.time(hour=18, minute=0)\n",
    "arr = []\n",
    "\n",
    "with open('0220_0322.txt') as fh: \n",
    "    current_date = None\n",
    "    current_time = None\n",
    "    for line in fh: \n",
    "        date_match = date_pattern.match(line)\n",
    "        if date_match:\n",
    "            year, month, day = get_date(date_match)\n",
    "            date = datetime.date(year, month, day)\n",
    "            current_date = date\n",
    "        hour_match = hour_pattern.match(line)\n",
    "        if hour_match and current_date: \n",
    "            current_time = get_datetime(current_date, hour_match)\n",
    "            if current_time.hour < 18: \n",
    "                continue\n",
    "        sleep_match = sleep_pattern.match(line)\n",
    "        if sleep_match and sleep_match.group(1) and current_time.hour >= 18:\n",
    "            sleep_hours = int(sleep_match.group(2))\n",
    "            if sleep_hours > 8: # night time sleep \n",
    "                sleep_mins = int(sleep_match.group(3))\n",
    "                next_time = current_time + datetime.timedelta(hours=sleep_hours, minutes=sleep_mins)\n",
    "                start_time = datetime.datetime.combine(current_date, six_pm) \n",
    "                bucket_idx = assign_bucket(current_time, start_time)\n",
    "                if len(arr) <= bucket_idx:\n",
    "                    bucket_times = []\n",
    "                else: \n",
    "                    bucket_times = arr.pop(bucket_idx - 1)   # get the over7/under7 times for this bucket \n",
    "                if not bucket_times: \n",
    "                    bucket_times = [0, 0]\n",
    "                if next_time.hour >= 7: \n",
    "                    bucket_times[0] += 1   # index 0 keeps count of number of times she slept over 7 am \n",
    "                else: \n",
    "                    bucket_times[1] += 1   # index 1 keeps count of number of times she slept under 7 am \n",
    "                arr.insert(bucket_idx, bucket_times)\n",
    "                \n",
    "print(arr)"
   ]
  },
  {
   "cell_type": "code",
   "execution_count": 10,
   "id": "18dc41b3",
   "metadata": {},
   "outputs": [
    {
     "data": {
      "text/html": [
       "<div>\n",
       "<style scoped>\n",
       "    .dataframe tbody tr th:only-of-type {\n",
       "        vertical-align: middle;\n",
       "    }\n",
       "\n",
       "    .dataframe tbody tr th {\n",
       "        vertical-align: top;\n",
       "    }\n",
       "\n",
       "    .dataframe thead th {\n",
       "        text-align: right;\n",
       "    }\n",
       "</style>\n",
       "<table border=\"1\" class=\"dataframe\">\n",
       "  <thead>\n",
       "    <tr style=\"text-align: right;\">\n",
       "      <th></th>\n",
       "      <th>after 7</th>\n",
       "      <th>before 7</th>\n",
       "    </tr>\n",
       "  </thead>\n",
       "  <tbody>\n",
       "    <tr>\n",
       "      <th>0</th>\n",
       "      <td>0</td>\n",
       "      <td>1</td>\n",
       "    </tr>\n",
       "    <tr>\n",
       "      <th>1</th>\n",
       "      <td>0</td>\n",
       "      <td>1</td>\n",
       "    </tr>\n",
       "    <tr>\n",
       "      <th>2</th>\n",
       "      <td>1</td>\n",
       "      <td>2</td>\n",
       "    </tr>\n",
       "    <tr>\n",
       "      <th>3</th>\n",
       "      <td>0</td>\n",
       "      <td>2</td>\n",
       "    </tr>\n",
       "    <tr>\n",
       "      <th>4</th>\n",
       "      <td>0</td>\n",
       "      <td>6</td>\n",
       "    </tr>\n",
       "    <tr>\n",
       "      <th>5</th>\n",
       "      <td>1</td>\n",
       "      <td>3</td>\n",
       "    </tr>\n",
       "    <tr>\n",
       "      <th>6</th>\n",
       "      <td>0</td>\n",
       "      <td>1</td>\n",
       "    </tr>\n",
       "    <tr>\n",
       "      <th>7</th>\n",
       "      <td>2</td>\n",
       "      <td>4</td>\n",
       "    </tr>\n",
       "    <tr>\n",
       "      <th>8</th>\n",
       "      <td>1</td>\n",
       "      <td>4</td>\n",
       "    </tr>\n",
       "  </tbody>\n",
       "</table>\n",
       "</div>"
      ],
      "text/plain": [
       "   after 7  before 7\n",
       "0        0         1\n",
       "1        0         1\n",
       "2        1         2\n",
       "3        0         2\n",
       "4        0         6\n",
       "5        1         3\n",
       "6        0         1\n",
       "7        2         4\n",
       "8        1         4"
      ]
     },
     "execution_count": 10,
     "metadata": {},
     "output_type": "execute_result"
    }
   ],
   "source": [
    "a = np.array(arr)\n",
    "df = pd.DataFrame(data=a, columns=['after 7', 'before 7'])\n",
    "df"
   ]
  },
  {
   "cell_type": "code",
   "execution_count": 15,
   "id": "b39fb088",
   "metadata": {},
   "outputs": [
    {
     "data": {
      "text/plain": [
       "<AxesSubplot:xlabel='Increasing time buckets', ylabel='Number of wake ups'>"
      ]
     },
     "execution_count": 15,
     "metadata": {},
     "output_type": "execute_result"
    },
    {
     "data": {
      "image/png": "[encoded data removed]",
      "text/plain": [
       "<Figure size 432x288 with 1 Axes>"
      ]
     },
     "metadata": {
      "needs_background": "light"
     },
     "output_type": "display_data"
    }
   ],
   "source": [
    "df.plot(kind='bar', xlabel='Increasing time buckets', ylabel='Number of wake ups')"
   ]
  },
  {
   "cell_type": "code",
   "execution_count": null,
   "id": "025e3124",
   "metadata": {},
   "outputs": [],
   "source": []
  }
 ],
 "metadata": {
  "kernelspec": {
   "display_name": "Python 3 (ipykernel)",
   "language": "python",
   "name": "python3"
  },
  "language_info": {
   "codemirror_mode": {
    "name": "ipython",
    "version": 3
   },
   "file_extension": ".py",
   "mimetype": "text/x-python",
   "name": "python",
   "nbconvert_exporter": "python",
   "pygments_lexer": "ipython3",
   "version": "3.7.11"
  }
 },
 "nbformat": 4,
 "nbformat_minor": 5
}
